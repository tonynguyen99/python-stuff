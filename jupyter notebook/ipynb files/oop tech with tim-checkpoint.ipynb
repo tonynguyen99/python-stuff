{
 "cells": [
  {
   "cell_type": "code",
   "execution_count": 4,
   "id": "713a4b14",
   "metadata": {},
   "outputs": [
    {
     "name": "stdout",
     "output_type": "stream",
     "text": [
      "85.0\n"
     ]
    }
   ],
   "source": [
    "class Student:\n",
    "    def __init__(self, name, age, grade):\n",
    "        self.name = name\n",
    "        self.age = age\n",
    "        self.grade = grade\n",
    "        \n",
    "    def get_grade(self):\n",
    "        return self.grade\n",
    "    \n",
    "class Course():\n",
    "    def __init__(self, name, max_students):\n",
    "        self.name = name\n",
    "        self.max_students = max_students\n",
    "        self.students = []\n",
    "    \n",
    "    def add_student(self, student):\n",
    "        if len(self.students) < self.max_students:\n",
    "            self.students.append(student)\n",
    "            return True\n",
    "        return False\n",
    "    \n",
    "    def get_average_grade(self):\n",
    "        value = 0\n",
    "        for student in self.students:\n",
    "            value += student.get_grade()\n",
    "        \n",
    "        return value / len(self.students)\n",
    "    \n",
    "\n",
    "s1 = Student(\"Tim\", 19, 95)\n",
    "s2 = Student(\"Bill\", 19, 75)\n",
    "s3 = Student(\"Jill\", 19, 65)\n",
    "\n",
    "course = Course(\"Science\", 2)\n",
    "course.add_student(s1)\n",
    "course.add_student(s2)\n",
    "\n",
    "print(course.get_average_grade())"
   ]
  },
  {
   "cell_type": "code",
   "execution_count": 6,
   "id": "64bba050",
   "metadata": {},
   "outputs": [
    {
     "name": "stdout",
     "output_type": "stream",
     "text": [
      "Meow\n",
      "Bark\n",
      "I don't know what to say\n",
      "I am Snowball and I am 15 years old and I am Blue\n"
     ]
    }
   ],
   "source": [
    "class Pet:\n",
    "    def __init__(self, name, age):\n",
    "        self.name = name\n",
    "        self.age = age\n",
    "    \n",
    "    def show(self):\n",
    "        print(f\"I am {self.name} and I am {self.age} years old.\")\n",
    "        \n",
    "    def speak(self):\n",
    "        print(\"I don't know what to say\")\n",
    "    \n",
    "class Cat(Pet):\n",
    "    def __init__(self, name, age, colour):\n",
    "        super().__init__(name, age)\n",
    "        self.colour = colour\n",
    "    \n",
    "    def speak(self):\n",
    "        print(\"Meow\")\n",
    "        \n",
    "    def show(self):\n",
    "        print(f\"I am {self.name} and I am {self.age} years old and I am {self.colour}\")\n",
    "\n",
    "\n",
    "class Dog(Pet):\n",
    "    def speak(self):\n",
    "        print(\"Bark\")\n",
    "        \n",
    "class Fish(Pet):\n",
    "    pass\n",
    "\n",
    "cat1 = Cat(\"Snowball\", 15, \"Blue\")\n",
    "dog1 = Dog(\"Sam\", 10)\n",
    "fish1 = Fish(\"Bubbles\", 2)\n",
    "\n",
    "cat1.speak()\n",
    "dog1.speak()\n",
    "fish1.speak()\n",
    "cat1.show()\n"
   ]
  },
  {
   "cell_type": "code",
   "execution_count": 9,
   "id": "f64e2cae",
   "metadata": {},
   "outputs": [
    {
     "name": "stdout",
     "output_type": "stream",
     "text": [
      "2\n"
     ]
    }
   ],
   "source": [
    "class Person:\n",
    "    number_of_people = 0\n",
    "    \n",
    "    def __init__(self, name):\n",
    "        self.name = name\n",
    "        Person.add_person()\n",
    "    \n",
    "    @classmethod\n",
    "    def number_of_people_(cls):\n",
    "        return cls.number_of_people\n",
    "    \n",
    "    @classmethod\n",
    "    def add_person(cls):\n",
    "        cls.number_of_people += 1\n",
    "    \n",
    "    \n",
    "p1 = Person(\"Tim\")\n",
    "p2 = Person(\"Jill\")\n",
    "print(Person.number_of_people_())"
   ]
  },
  {
   "cell_type": "code",
   "execution_count": 11,
   "id": "819b0574",
   "metadata": {},
   "outputs": [
    {
     "data": {
      "text/plain": [
       "12"
      ]
     },
     "execution_count": 11,
     "metadata": {},
     "output_type": "execute_result"
    }
   ],
   "source": [
    "class Math:\n",
    "    @staticmethod\n",
    "    def add5(x):\n",
    "        return x + 5\n",
    "    \n",
    "    @staticmethod\n",
    "    def add10(x):\n",
    "        return x + 10\n",
    "    \n",
    "    @staticmethod\n",
    "    def pr():\n",
    "        print(\"run\")\n",
    "        \n",
    "Math.add10(2)"
   ]
  },
  {
   "cell_type": "code",
   "execution_count": null,
   "id": "f144748a",
   "metadata": {},
   "outputs": [],
   "source": []
  }
 ],
 "metadata": {
  "kernelspec": {
   "display_name": "Python 3 (ipykernel)",
   "language": "python",
   "name": "python3"
  },
  "language_info": {
   "codemirror_mode": {
    "name": "ipython",
    "version": 3
   },
   "file_extension": ".py",
   "mimetype": "text/x-python",
   "name": "python",
   "nbconvert_exporter": "python",
   "pygments_lexer": "ipython3",
   "version": "3.9.6"
  }
 },
 "nbformat": 4,
 "nbformat_minor": 5
}
