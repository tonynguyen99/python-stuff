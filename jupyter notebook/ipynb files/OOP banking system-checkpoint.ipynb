{
 "cells": [
  {
   "cell_type": "code",
   "execution_count": 58,
   "id": "5b9b9bf4",
   "metadata": {},
   "outputs": [],
   "source": [
    "class User():\n",
    "    def __init__(self, name, age, gender):\n",
    "        self.name = name\n",
    "        self.age = age\n",
    "        self.gender = gender\n",
    "        \n",
    "        \n",
    "    def show_details(self):\n",
    "        print(\"Personal Details\")\n",
    "        print(\"\")\n",
    "        print(\"Name:\", self.name)\n",
    "        print(\"Age:\", self.age)\n",
    "        print(\"Gender:\", self.gender)\n",
    "        \n",
    "\n",
    "class Bank(User):\n",
    "    def __init__(self, name, age, gender):\n",
    "        super().__init__(name, age, gender)\n",
    "        self.balance = 0\n",
    "        \n",
    "    \n",
    "    def deposit(self, deposit_amount):\n",
    "        self.deposit_amount = deposit_amount\n",
    "        self.balance += deposit_amount\n",
    "        print(\"Account balanced has been updated: $\", self.balance)\n",
    "        \n",
    "        \n",
    "    def withdraw(self, withdraw_amount):\n",
    "        self.withdraw_amount = withdraw_amount\n",
    "        if self.balance < withdraw_amount:\n",
    "            print(\"You have insufficient funds | Balance Available: $%s\" % self.balance)\n",
    "        else:\n",
    "            self.balance -= self.withdraw_amount\n",
    "            print(\"Your account balance is now: $%s\" % self.balance)\n",
    "            \n",
    "            \n",
    "    def view_balance(self):\n",
    "        self.show_details()\n",
    "        print(\"Account balance: %s\" % self.balance)\n",
    "        "
   ]
  },
  {
   "cell_type": "code",
   "execution_count": 59,
   "id": "010b7621",
   "metadata": {},
   "outputs": [],
   "source": [
    "user1 = Bank(\"Johan\", 29, \"Male\")"
   ]
  },
  {
   "cell_type": "code",
   "execution_count": 60,
   "id": "ad5facfe",
   "metadata": {},
   "outputs": [
    {
     "name": "stdout",
     "output_type": "stream",
     "text": [
      "Personal Details\n",
      "\n",
      "Name: Johan\n",
      "Age: 29\n",
      "Gender: Male\n"
     ]
    }
   ],
   "source": [
    "user1.show_details()"
   ]
  },
  {
   "cell_type": "code",
   "execution_count": 61,
   "id": "c5bbe5f2",
   "metadata": {},
   "outputs": [
    {
     "name": "stdout",
     "output_type": "stream",
     "text": [
      "Account balanced has been updated: $ 200\n"
     ]
    }
   ],
   "source": [
    "user1.deposit(200)"
   ]
  },
  {
   "cell_type": "code",
   "execution_count": 62,
   "id": "a331e7b8",
   "metadata": {},
   "outputs": [
    {
     "name": "stdout",
     "output_type": "stream",
     "text": [
      "You have insufficient funds | Balance Available: $200\n"
     ]
    }
   ],
   "source": [
    "user1.withdraw(300)"
   ]
  },
  {
   "cell_type": "code",
   "execution_count": 63,
   "id": "596ec850",
   "metadata": {},
   "outputs": [
    {
     "name": "stdout",
     "output_type": "stream",
     "text": [
      "Account balanced has been updated: $ 250\n"
     ]
    }
   ],
   "source": [
    "user1.deposit(50)"
   ]
  },
  {
   "cell_type": "code",
   "execution_count": 64,
   "id": "44cfe0cf",
   "metadata": {},
   "outputs": [
    {
     "name": "stdout",
     "output_type": "stream",
     "text": [
      "Your account balance is now: $200\n"
     ]
    }
   ],
   "source": [
    "user1.withdraw(50)"
   ]
  },
  {
   "cell_type": "code",
   "execution_count": 65,
   "id": "612257f9",
   "metadata": {},
   "outputs": [
    {
     "name": "stdout",
     "output_type": "stream",
     "text": [
      "Your account balance is now: $0\n"
     ]
    }
   ],
   "source": [
    "user1.withdraw(200)"
   ]
  },
  {
   "cell_type": "code",
   "execution_count": 66,
   "id": "0d30787a",
   "metadata": {},
   "outputs": [
    {
     "name": "stdout",
     "output_type": "stream",
     "text": [
      "Account balanced has been updated: $ 500\n"
     ]
    }
   ],
   "source": [
    "user1.deposit(500)"
   ]
  },
  {
   "cell_type": "code",
   "execution_count": 57,
   "id": "67bab7cb",
   "metadata": {},
   "outputs": [
    {
     "name": "stdout",
     "output_type": "stream",
     "text": [
      "You have insufficient funds | Balance Available: $500\n"
     ]
    }
   ],
   "source": [
    "user1.withdraw(550)"
   ]
  },
  {
   "cell_type": "code",
   "execution_count": 67,
   "id": "fba89c6b",
   "metadata": {},
   "outputs": [
    {
     "name": "stdout",
     "output_type": "stream",
     "text": [
      "Personal Details\n",
      "\n",
      "Name: Johan\n",
      "Age: 29\n",
      "Gender: Male\n",
      "Account balance: 500\n"
     ]
    }
   ],
   "source": [
    "user1.view_balance()"
   ]
  },
  {
   "cell_type": "code",
   "execution_count": null,
   "id": "fb4ae7c9",
   "metadata": {},
   "outputs": [],
   "source": []
  }
 ],
 "metadata": {
  "kernelspec": {
   "display_name": "Python 3 (ipykernel)",
   "language": "python",
   "name": "python3"
  },
  "language_info": {
   "codemirror_mode": {
    "name": "ipython",
    "version": 3
   },
   "file_extension": ".py",
   "mimetype": "text/x-python",
   "name": "python",
   "nbconvert_exporter": "python",
   "pygments_lexer": "ipython3",
   "version": "3.9.6"
  }
 },
 "nbformat": 4,
 "nbformat_minor": 5
}
